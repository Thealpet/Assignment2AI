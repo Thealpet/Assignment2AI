{
 "cells": [
  {
   "cell_type": "code",
   "execution_count": 171,
   "id": "9e81c61d",
   "metadata": {},
   "outputs": [],
   "source": [
    "#Assignment2\n",
    "#Oppgave: Predict stock market price for tesla:"
   ]
  },
  {
   "cell_type": "code",
   "execution_count": 800,
   "id": "6b0d38ea",
   "metadata": {},
   "outputs": [],
   "source": [
    "%matplotlib inline\n",
    "\n",
    "import numpy as np\n",
    "import pandas as pd\n",
    "import matplotlib.pyplot as plt\n",
    "from datetime import datetime\n",
    "\n",
    "\n",
    "from sklearn import metrics\n",
    "from sklearn import preprocessing\n",
    "from sklearn.linear_model import LinearRegression\n",
    "from sklearn.model_selection import train_test_split\n",
    "\n",
    "import seaborn as sns\n"
   ]
  },
  {
   "cell_type": "code",
   "execution_count": 801,
   "id": "512c7edd",
   "metadata": {},
   "outputs": [
    {
     "data": {
      "text/html": [
       "<div>\n",
       "<style scoped>\n",
       "    .dataframe tbody tr th:only-of-type {\n",
       "        vertical-align: middle;\n",
       "    }\n",
       "\n",
       "    .dataframe tbody tr th {\n",
       "        vertical-align: top;\n",
       "    }\n",
       "\n",
       "    .dataframe thead th {\n",
       "        text-align: right;\n",
       "    }\n",
       "</style>\n",
       "<table border=\"1\" class=\"dataframe\">\n",
       "  <thead>\n",
       "    <tr style=\"text-align: right;\">\n",
       "      <th></th>\n",
       "      <th>Date</th>\n",
       "      <th>Open</th>\n",
       "      <th>High</th>\n",
       "      <th>Low</th>\n",
       "      <th>Close</th>\n",
       "      <th>Adj Close</th>\n",
       "      <th>Volume</th>\n",
       "    </tr>\n",
       "  </thead>\n",
       "  <tbody>\n",
       "    <tr>\n",
       "      <th>0</th>\n",
       "      <td>2020-10-19</td>\n",
       "      <td>446.239990</td>\n",
       "      <td>447.000000</td>\n",
       "      <td>428.869995</td>\n",
       "      <td>430.829987</td>\n",
       "      <td>430.829987</td>\n",
       "      <td>36287800</td>\n",
       "    </tr>\n",
       "    <tr>\n",
       "      <th>1</th>\n",
       "      <td>2020-10-20</td>\n",
       "      <td>431.750000</td>\n",
       "      <td>431.750000</td>\n",
       "      <td>419.049988</td>\n",
       "      <td>421.940002</td>\n",
       "      <td>421.940002</td>\n",
       "      <td>31656300</td>\n",
       "    </tr>\n",
       "    <tr>\n",
       "      <th>2</th>\n",
       "      <td>2020-10-21</td>\n",
       "      <td>422.700012</td>\n",
       "      <td>432.950012</td>\n",
       "      <td>421.250000</td>\n",
       "      <td>422.640015</td>\n",
       "      <td>422.640015</td>\n",
       "      <td>32370500</td>\n",
       "    </tr>\n",
       "    <tr>\n",
       "      <th>3</th>\n",
       "      <td>2020-10-22</td>\n",
       "      <td>441.920013</td>\n",
       "      <td>445.230011</td>\n",
       "      <td>424.510010</td>\n",
       "      <td>425.790009</td>\n",
       "      <td>425.790009</td>\n",
       "      <td>39993200</td>\n",
       "    </tr>\n",
       "    <tr>\n",
       "      <th>4</th>\n",
       "      <td>2020-10-23</td>\n",
       "      <td>421.839996</td>\n",
       "      <td>422.890015</td>\n",
       "      <td>407.380005</td>\n",
       "      <td>420.630005</td>\n",
       "      <td>420.630005</td>\n",
       "      <td>33717000</td>\n",
       "    </tr>\n",
       "  </tbody>\n",
       "</table>\n",
       "</div>"
      ],
      "text/plain": [
       "         Date        Open        High         Low       Close   Adj Close  \\\n",
       "0  2020-10-19  446.239990  447.000000  428.869995  430.829987  430.829987   \n",
       "1  2020-10-20  431.750000  431.750000  419.049988  421.940002  421.940002   \n",
       "2  2020-10-21  422.700012  432.950012  421.250000  422.640015  422.640015   \n",
       "3  2020-10-22  441.920013  445.230011  424.510010  425.790009  425.790009   \n",
       "4  2020-10-23  421.839996  422.890015  407.380005  420.630005  420.630005   \n",
       "\n",
       "     Volume  \n",
       "0  36287800  \n",
       "1  31656300  \n",
       "2  32370500  \n",
       "3  39993200  \n",
       "4  33717000  "
      ]
     },
     "execution_count": 801,
     "metadata": {},
     "output_type": "execute_result"
    }
   ],
   "source": [
    "url = \"https://raw.githubusercontent.com/Thealpet/Assignment2AI/main/TSLA.csv\"\n",
    "\n",
    "df = pd.read_csv(url)\n",
    "df.head()"
   ]
  },
  {
   "cell_type": "code",
   "execution_count": 802,
   "id": "f496d337",
   "metadata": {},
   "outputs": [
    {
     "data": {
      "text/html": [
       "<div>\n",
       "<style scoped>\n",
       "    .dataframe tbody tr th:only-of-type {\n",
       "        vertical-align: middle;\n",
       "    }\n",
       "\n",
       "    .dataframe tbody tr th {\n",
       "        vertical-align: top;\n",
       "    }\n",
       "\n",
       "    .dataframe thead th {\n",
       "        text-align: right;\n",
       "    }\n",
       "</style>\n",
       "<table border=\"1\" class=\"dataframe\">\n",
       "  <thead>\n",
       "    <tr style=\"text-align: right;\">\n",
       "      <th></th>\n",
       "      <th>Date</th>\n",
       "      <th>Open</th>\n",
       "      <th>High</th>\n",
       "      <th>Low</th>\n",
       "      <th>Close</th>\n",
       "      <th>Adj Close</th>\n",
       "      <th>Volume</th>\n",
       "    </tr>\n",
       "  </thead>\n",
       "  <tbody>\n",
       "    <tr>\n",
       "      <th>0</th>\n",
       "      <td>737717</td>\n",
       "      <td>446.239990</td>\n",
       "      <td>447.000000</td>\n",
       "      <td>428.869995</td>\n",
       "      <td>430.829987</td>\n",
       "      <td>430.829987</td>\n",
       "      <td>36287800</td>\n",
       "    </tr>\n",
       "    <tr>\n",
       "      <th>1</th>\n",
       "      <td>737718</td>\n",
       "      <td>431.750000</td>\n",
       "      <td>431.750000</td>\n",
       "      <td>419.049988</td>\n",
       "      <td>421.940002</td>\n",
       "      <td>421.940002</td>\n",
       "      <td>31656300</td>\n",
       "    </tr>\n",
       "    <tr>\n",
       "      <th>2</th>\n",
       "      <td>737719</td>\n",
       "      <td>422.700012</td>\n",
       "      <td>432.950012</td>\n",
       "      <td>421.250000</td>\n",
       "      <td>422.640015</td>\n",
       "      <td>422.640015</td>\n",
       "      <td>32370500</td>\n",
       "    </tr>\n",
       "    <tr>\n",
       "      <th>3</th>\n",
       "      <td>737720</td>\n",
       "      <td>441.920013</td>\n",
       "      <td>445.230011</td>\n",
       "      <td>424.510010</td>\n",
       "      <td>425.790009</td>\n",
       "      <td>425.790009</td>\n",
       "      <td>39993200</td>\n",
       "    </tr>\n",
       "    <tr>\n",
       "      <th>4</th>\n",
       "      <td>737721</td>\n",
       "      <td>421.839996</td>\n",
       "      <td>422.890015</td>\n",
       "      <td>407.380005</td>\n",
       "      <td>420.630005</td>\n",
       "      <td>420.630005</td>\n",
       "      <td>33717000</td>\n",
       "    </tr>\n",
       "  </tbody>\n",
       "</table>\n",
       "</div>"
      ],
      "text/plain": [
       "     Date        Open        High         Low       Close   Adj Close  \\\n",
       "0  737717  446.239990  447.000000  428.869995  430.829987  430.829987   \n",
       "1  737718  431.750000  431.750000  419.049988  421.940002  421.940002   \n",
       "2  737719  422.700012  432.950012  421.250000  422.640015  422.640015   \n",
       "3  737720  441.920013  445.230011  424.510010  425.790009  425.790009   \n",
       "4  737721  421.839996  422.890015  407.380005  420.630005  420.630005   \n",
       "\n",
       "     Volume  \n",
       "0  36287800  \n",
       "1  31656300  \n",
       "2  32370500  \n",
       "3  39993200  \n",
       "4  33717000  "
      ]
     },
     "execution_count": 802,
     "metadata": {},
     "output_type": "execute_result"
    }
   ],
   "source": [
    "#Gjør om dato til nummer\n",
    "df[\"Date\"] = pd.to_datetime(df[\"Date\"])\n",
    "df[\"Date\"] = df[\"Date\"].apply(lambda x: x.toordinal())\n",
    "\n",
    "df.head()"
   ]
  },
  {
   "cell_type": "code",
   "execution_count": 803,
   "id": "3cc811d6",
   "metadata": {},
   "outputs": [],
   "source": [
    "# Trekker ut Date og Close(pris) fra datasettet\n",
    "X = pd.DataFrame(df['Date']) \n",
    "y = pd.DataFrame(df['Close']) "
   ]
  },
  {
   "cell_type": "code",
   "execution_count": 804,
   "id": "94ba2355",
   "metadata": {},
   "outputs": [],
   "source": [
    "#Lager sett for trening og testing\n",
    "X_train, X_test, y_train, y_test = train_test_split(X, y, test_size=0.33, random_state=42)"
   ]
  },
  {
   "cell_type": "code",
   "execution_count": 805,
   "id": "f5b4670e",
   "metadata": {},
   "outputs": [],
   "source": [
    "#linear regression og prediction\n",
    "linear_regressor = LinearRegression()  \n",
    "linear_regressor.fit(X_train, y_train)  \n",
    "Y_pred = linear_regressor.predict(X_train)"
   ]
  },
  {
   "cell_type": "code",
   "execution_count": 806,
   "id": "9b8e6d07",
   "metadata": {},
   "outputs": [],
   "source": [
    "sns.set(rc={'figure.figsize':(11.7,8.27)}) "
   ]
  },
  {
   "cell_type": "code",
   "execution_count": 807,
   "id": "3d514a70",
   "metadata": {},
   "outputs": [
    {
     "data": {
      "image/png": "[encoded data removed]",
      "text/plain": [
       "<Figure size 842.4x595.44 with 1 Axes>"
      ]
     },
     "metadata": {},
     "output_type": "display_data"
    },
    {
     "name": "stdout",
     "output_type": "stream",
     "text": [
      "MSE = 9739.051006918291\n"
     ]
    }
   ],
   "source": [
    "#train\n",
    "plt.scatter(X_train, y_train)\n",
    "plt.plot(X_train, Y_pred, color='red')\n",
    "plt.show()\n",
    "print( \"MSE = \"+str(metrics.mean_squared_error(y_train,Y_pred)))"
   ]
  },
  {
   "cell_type": "code",
   "execution_count": 808,
   "id": "f780c9ec",
   "metadata": {},
   "outputs": [
    {
     "data": {
      "image/png": "[encoded data removed]",
      "text/plain": [
       "<Figure size 842.4x595.44 with 1 Axes>"
      ]
     },
     "metadata": {},
     "output_type": "display_data"
    },
    {
     "name": "stdout",
     "output_type": "stream",
     "text": [
      "MSE = 10914.675428029372\n"
     ]
    }
   ],
   "source": [
    "#test\n",
    "Y_pred = linear_regressor.predict(X_test)  \n",
    "plt.scatter(X_test, y_test)\n",
    "plt.plot(X_test, Y_pred, color='red')\n",
    "plt.show()\n",
    "print( \"MSE = \"+str(metrics.mean_squared_error(y_test,Y_pred)))"
   ]
  },
  {
   "cell_type": "code",
   "execution_count": 809,
   "id": "5a36e05f",
   "metadata": {},
   "outputs": [],
   "source": [
    "#Metode for å få ut predicted pris:\n",
    "Y_pred = linear_regressor.predict(X_train) \n",
    "\n",
    "def predictPrice(date):\n",
    "    date1 = datetime.strptime(date, '%Y-%m-%d')#Gjør først om input-dato til nummer\n",
    "    date2 = date1.toordinal()\n",
    "    \n",
    "    pred = linear_regressor.predict([[date2]]) \n",
    "    print(f\"Predicted price: {pred[0][0]}\")\n",
    "    print( \"MSE = \"+str(metrics.mean_squared_error(y_train,Y_pred)))\n",
    "    \n",
    "    "
   ]
  },
  {
   "cell_type": "code",
   "execution_count": 810,
   "id": "00fea8c6",
   "metadata": {},
   "outputs": [
    {
     "name": "stdout",
     "output_type": "stream",
     "text": [
      "Predicted price: 748.1157678454183\n",
      "MSE = 9739.051006918291\n"
     ]
    }
   ],
   "source": [
    "#Skriver inn valgfri dato, og får ut pris og MSE\n",
    "predictPrice(\"2021-10-19\") "
   ]
  },
  {
   "cell_type": "code",
   "execution_count": null,
   "id": "3be8de38",
   "metadata": {},
   "outputs": [],
   "source": []
  }
 ],
 "metadata": {
  "kernelspec": {
   "display_name": "Python 3 (ipykernel)",
   "language": "python",
   "name": "python3"
  },
  "language_info": {
   "codemirror_mode": {
    "name": "ipython",
    "version": 3
   },
   "file_extension": ".py",
   "mimetype": "text/x-python",
   "name": "python",
   "nbconvert_exporter": "python",
   "pygments_lexer": "ipython3",
   "version": "3.8.11"
  }
 },
 "nbformat": 4,
 "nbformat_minor": 5
}
